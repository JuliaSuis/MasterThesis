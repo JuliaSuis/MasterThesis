{
 "cells": [
  {
   "cell_type": "code",
   "execution_count": 7,
   "metadata": {
    "collapsed": true
   },
   "outputs": [],
   "source": [
    "import pandas as pd\n",
    "pd.Series\n",
    "import math\n",
    "import csv\n",
    "from datetime import datetime\n",
    "from datetime import date\n",
    "import numpy as np\n",
    "import scipy as sc\n",
    "import statsmodels\n",
    "import sklearn\n",
    "from sklearn import preprocessing\n",
    "import matplotlib.pylab as plt\n",
    "%matplotlib inline\n",
    "from matplotlib.pylab import rcParams\n",
    "rcParams['figure.figsize'] = 30, 10\n",
    "rcParams.update({'font.size': 22})\n",
    "import keras\n",
    "from keras.models import Sequential\n",
    "from keras.layers import Dense\n",
    "from keras.utils import np_utils\n",
    "from matplotlib import pyplot\n",
    "import statsmodels.api as sm\n",
    "\n",
    "import holidays\n",
    "\n",
    "from statsmodels.graphics.tsaplots import plot_acf\n",
    "from statsmodels.graphics.tsaplots import plot_pacf"
   ]
  },
  {
   "cell_type": "markdown",
   "metadata": {},
   "source": [
    "### Load file, print info and select columns"
   ]
  },
  {
   "cell_type": "code",
   "execution_count": 2,
   "metadata": {
    "collapsed": true
   },
   "outputs": [],
   "source": [
    "#function to load files\n",
    "def load_file(filepath):\n",
    "    df = pd.read_csv(filepath, sep='\\t', index_col=0, parse_dates=True)\n",
    "    df = df.sort_index()\n",
    "    #we can check that this 2 columns are equal, so we can drop one\n",
    "    #any(df['SALE_AMOUNT_BEFORE_CANCELLATIONS'] != df['SALE_AMOUNT_AFTER_CANCELLATIONS'])\n",
    "    df = df.drop(['SALE_AMOUNT_AFTER_CANCELLATIONS', 'WEEKDAY'], axis=1)\n",
    "    return df.astype('float32')\n",
    "\n",
    "def load_file_exp(filepath):\n",
    "    df = pd.read_csv(filepath, sep=',', index_col=0, parse_dates=True)\n",
    "    df = df.sort_index()\n",
    "    return df.astype('float32')\n",
    "\n",
    "def add_timeindex_features(df):\n",
    "    data_df = df.copy()\n",
    "    data_df['month'] = data_df.index.month\n",
    "    data_df['year'] = data_df.index.year\n",
    "    data_df['quater'] = data_df.index.quarter\n",
    "    data_df['week_day'] = data_df.index.dayofweek\n",
    "    data_df['week_of_year'] = data_df.index.weekofyear\n",
    "    data_df['day_of_year'] = data_df.index.dayofyear\n",
    "    return data_df\n",
    "\n",
    "#function to create a new df with selected columns\n",
    "def create_small_df(df, columns):\n",
    "    small_df = df.copy()\n",
    "    small_df = small_df[columns]\n",
    "    return small_df\n",
    "\n",
    "#function to print inf about Data\n",
    "def print_info_df(df, print_columns = False):\n",
    "    #Count period\n",
    "    d1 = df.index[0]\n",
    "    d2 = df.index[-1]\n",
    "    delta = d2 - d1\n",
    "    print('Number of days is ' + str(delta.days) + ' from ' + str(d1) + ' to '+ str(d2))\n",
    "    print('The shape of the data: %d*%d' %(df.shape[0],df.shape[1]))\n",
    "    print('Check for Nan values: %s'%(df.isnull().values.any()))\n",
    "    if (print_columns == True):\n",
    "        print(list(df.columns))\n",
    "    else:\n",
    "        print('Number of columns: %d'%(df.shape[1]))"
   ]
  },
  {
   "cell_type": "code",
   "execution_count": null,
   "metadata": {},
   "outputs": [],
   "source": [
    "df = load_file('...')\n",
    "print_info_df(df, False)"
   ]
  },
  {
   "cell_type": "markdown",
   "metadata": {},
   "source": [
    "### UK holidays"
   ]
  },
  {
   "cell_type": "code",
   "execution_count": 4,
   "metadata": {
    "collapsed": true
   },
   "outputs": [],
   "source": [
    "uk_holidays = holidays.UK()"
   ]
  },
  {
   "cell_type": "code",
   "execution_count": 5,
   "metadata": {},
   "outputs": [
    {
     "name": "stdout",
     "output_type": "stream",
     "text": [
      "2018-01-01 New Year's Day\n",
      "2018-01-02 New Year Holiday [Scotland]\n",
      "2018-03-17 St. Patrick's Day [Northern Ireland]\n",
      "2018-03-19 St. Patrick's Day [Northern Ireland] (Observed)\n",
      "2018-03-30 Good Friday\n",
      "2018-04-02 Easter Monday [England, Wales, Northern Ireland]\n",
      "2018-05-07 May Day\n",
      "2018-05-28 Spring Bank Holiday\n",
      "2018-07-12 Battle of the Boyne [Northern Ireland]\n",
      "2018-08-06 Summer Bank Holiday [Scotland]\n",
      "2018-08-27 Late Summer Bank Holiday [England, Wales, Northern Ireland]\n",
      "2018-11-30 St. Andrew's Day [Scotland]\n",
      "2018-12-25 Christmas Day\n",
      "2018-12-26 Boxing Day\n"
     ]
    }
   ],
   "source": [
    " for date, name in sorted(holidays.UK(years=2018).items()):\n",
    "     print(date, name)"
   ]
  },
  {
   "cell_type": "markdown",
   "metadata": {},
   "source": [
    "### Special E-Commerce days "
   ]
  },
  {
   "cell_type": "code",
   "execution_count": 8,
   "metadata": {
    "collapsed": true
   },
   "outputs": [],
   "source": [
    "#Define new class\n",
    "class ECommerceDays(holidays.HolidayBase):\n",
    "    def _populate(self, year):\n",
    "        \n",
    "        self[date(year, 2, 13)] = \"preValentine Day\" \n",
    "        self[date(year, 2, 14)] = \"Valentine Day\"       \n",
    "        self[date(year, 12, 15)] = \"Free Shipping day\"\n",
    "        self[date(year, 12, 26)] = \"Boxing Day\"\n",
    "        self[date(year, 1, 15)] = \"Blue Monday\"\n",
    "        \n",
    "ecomdays = ECommerceDays()\n",
    "ecomdays._populate(2014)\n",
    "ecomdays._populate(2015)\n",
    "ecomdays._populate(2016)\n",
    "ecomdays._populate(2017)\n",
    "ecomdays._populate(2018)\n",
    "ecomdays._populate(2019)\n",
    "\n",
    "to_add = ({date(2014, 11, 28) : \"Black Friday 2014\"},{date(2015, 11, 27) : \"Black Friday 2015\"},\n",
    "          {date(2016, 11, 25) : \"Black Friday 2016\"},{date(2017, 11, 24) : \"Black Friday 2017\"},\n",
    "          {date(2018, 11, 23) : \"Black Friday 2018\"},{date(2019, 11, 29) : \"Black Friday 2019\"},\n",
    "          {date(2014, 12, 6) : \"Small Business day 2014\"},{date(2015, 12, 5) : \"Small Business day 2015\"},\n",
    "          {date(2016, 12, 3) : \"Small Business day 2016\"},{date(2017, 12, 2) : \"Small Business day 2017\"},\n",
    "          {date(2018, 12, 1) : \"Small Business day 2018\"},{date(2019, 12, 7) : \"Small Business day 2019\"})\n",
    "\n",
    "for i in to_add:\n",
    "    ecomdays.append(i)"
   ]
  },
  {
   "cell_type": "code",
   "execution_count": 9,
   "metadata": {
    "collapsed": true
   },
   "outputs": [],
   "source": [
    "# for date in (ecomdays.items()):\n",
    "#     print(date)"
   ]
  },
  {
   "cell_type": "markdown",
   "metadata": {},
   "source": [
    "### Christmas  days"
   ]
  },
  {
   "cell_type": "code",
   "execution_count": 10,
   "metadata": {
    "collapsed": true
   },
   "outputs": [],
   "source": [
    "class ChristmasDays(holidays.HolidayBase):\n",
    "    def _populate(self, year):\n",
    "        \n",
    "        self[date(year, 12, 1)] = \"Presents for Christmas\"\n",
    "        self[date(year, 12, 2)] = \"Presents for Christmas\"\n",
    "        self[date(year, 12, 3)] = \"Presents for Christmas\"\n",
    "        self[date(year, 12, 4)] = \"Presents for Christmas\"\n",
    "        self[date(year, 12, 5)] = \"Presents for Christmas\"\n",
    "        self[date(year, 12, 6)] = \"Presents for Christmas\"\n",
    "        self[date(year, 12, 7)] = \"Presents for Christmas\"\n",
    "        self[date(year, 12, 8)] = \"Presents for Christmas\"\n",
    "        self[date(year, 12, 9)] = \"Presents for Christmas\"\n",
    "        self[date(year, 12, 10)] = \"Presents for Christmas\"\n",
    "        self[date(year, 12, 11)] = \"Presents for Christmas\"\n",
    "        self[date(year, 12, 12)] = \"Presents for Christmas\"\n",
    "        self[date(year, 12, 13)] = \"Presents for Christmas\"\n",
    "        self[date(year, 12, 14)] = \"Presents for Christmas\"\n",
    "        self[date(year, 12, 15)] = \"Presents for Christmas\"\n",
    "        self[date(year, 12, 16)] = \"Presents for Christmas\"\n",
    "        self[date(year, 12, 17)] = \"Presents for Christmas\"\n",
    "        self[date(year, 12, 18)] = \"Presents for Christmas\"\n",
    "        self[date(year, 12, 19)] = \"Presents for Christmas\"\n",
    "        self[date(year, 12, 20)] = \"Presents for Christmas\"\n",
    "        self[date(year, 12, 21)] = \"Presents for Christmas\"\n",
    "        self[date(year, 12, 22)] = \"Presents for Christmas\"\n",
    "        self[date(year, 12, 23)] = \"Presents for Christmas\"\n",
    "        \n",
    "christmas_days = ChristmasDays()\n",
    "christmas_days._populate(2014)\n",
    "christmas_days._populate(2015)\n",
    "christmas_days._populate(2016)\n",
    "christmas_days._populate(2017)\n",
    "christmas_days._populate(2018)\n",
    "christmas_days._populate(2019)"
   ]
  },
  {
   "cell_type": "code",
   "execution_count": 11,
   "metadata": {
    "collapsed": true
   },
   "outputs": [],
   "source": [
    "# for date in (christmas_days.items()):\n",
    "#      print(date)"
   ]
  },
  {
   "cell_type": "markdown",
   "metadata": {},
   "source": [
    "### Now we have to add it "
   ]
  },
  {
   "cell_type": "code",
   "execution_count": 12,
   "metadata": {
    "collapsed": true
   },
   "outputs": [],
   "source": [
    "def add_new_features(df):\n",
    "    ex_df = df.copy()\n",
    "    ex_df['uk_holidays'] = 0\n",
    "    ex_df['ecomdays'] = 0\n",
    "    ex_df['christmas_days'] = 0\n",
    "    \n",
    "    #add uk holidays\n",
    "    for i in ex_df.index:\n",
    "        date=i.strftime('%-m/%d/%y')\n",
    "        if date in uk_holidays:\n",
    "            ex_df.at[i, 'uk_holidays'] = 1\n",
    "        else:\n",
    "            ex_df.at[i, 'uk_holidays'] = 0\n",
    "        \n",
    "    #add special e-commerce days    \n",
    "    for i in ex_df.index:\n",
    "        date=i.strftime('%-m/%d/%y')\n",
    "        if date in ecomdays:\n",
    "            ex_df.at[i, 'ecomdays'] = 1\n",
    "        else:\n",
    "            ex_df.at[i, 'ecomdays'] = 0\n",
    "        \n",
    "    #add christmas days\n",
    "    for i in ex_df.index:\n",
    "        date=i.strftime('%-m/%d/%y')\n",
    "        if date in christmas_days:\n",
    "            ex_df.at[i, 'christmas_days'] = 1\n",
    "        else:\n",
    "            ex_df.at[i, 'christmas_days'] = 0\n",
    "     \n",
    "    #add month, year, quater, dayofweek, weekofyear, day_of_year\n",
    "    ex_df = add_timeindex_features(ex_df)\n",
    "    \n",
    "    return ex_df"
   ]
  },
  {
   "cell_type": "code",
   "execution_count": null,
   "metadata": {},
   "outputs": [],
   "source": [
    "new_df = add_new_features(df)\n",
    "print_info_df(new_df, True)"
   ]
  },
  {
   "cell_type": "code",
   "execution_count": 119,
   "metadata": {
    "collapsed": true
   },
   "outputs": [],
   "source": [
    "export_csv = new_df.to_csv (r'export2_dataframe.csv', index = 'DATE', header=True)"
   ]
  },
  {
   "cell_type": "code",
   "execution_count": 122,
   "metadata": {
    "collapsed": true
   },
   "outputs": [],
   "source": [
    "our_df = load_file_exp('export2_dataframe.csv', )"
   ]
  },
  {
   "cell_type": "code",
   "execution_count": null,
   "metadata": {},
   "outputs": [],
   "source": []
  },
  {
   "cell_type": "code",
   "execution_count": 128,
   "metadata": {},
   "outputs": [
    {
     "data": {
      "text/plain": [
       "(1796, 14)"
      ]
     },
     "execution_count": 128,
     "metadata": {},
     "output_type": "execute_result"
    }
   ],
   "source": [
    "df our_df = load_file_exp('export2_dataframe.csv', )"
   ]
  },
  {
   "cell_type": "code",
   "execution_count": 129,
   "metadata": {
    "collapsed": true
   },
   "outputs": [],
   "source": [
    "export_csv = df.to_csv (r'selected_dataframe.csv', index = 'DATE', header=True)"
   ]
  },
  {
   "cell_type": "code",
   "execution_count": null,
   "metadata": {},
   "outputs": [],
   "source": [
    "our_df = load_file_exp('selected_dataframe.csv', )"
   ]
  },
  {
   "cell_type": "code",
   "execution_count": null,
   "metadata": {
    "collapsed": true
   },
   "outputs": [],
   "source": []
  }
 ],
 "metadata": {
  "kernelspec": {
   "display_name": "Python 3",
   "language": "python",
   "name": "python3"
  },
  "language_info": {
   "codemirror_mode": {
    "name": "ipython",
    "version": 3
   },
   "file_extension": ".py",
   "mimetype": "text/x-python",
   "name": "python",
   "nbconvert_exporter": "python",
   "pygments_lexer": "ipython3",
   "version": "3.6.1"
  }
 },
 "nbformat": 4,
 "nbformat_minor": 2
}
